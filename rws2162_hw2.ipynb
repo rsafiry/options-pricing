{
 "cells": [
  {
   "cell_type": "markdown",
   "metadata": {},
   "source": [
    "# COMS W1002 Computing in Context: Computational Finance  \n",
    "## Professor Karl Sigman\n",
    "## Option Pricing Using Monte Carlo Simulation"
   ]
  },
  {
   "cell_type": "markdown",
   "metadata": {},
   "source": [
    "__Problem 1:__ For the values of $p=0.5$ and $p=0.75$ obtain an estimate of $p$ by using Monte Carlo Simulation with $n=100, n=1000, n=10,000$ You will generate $n$ _iid_ Bernoulli $(p)$ random variables $B_1, ..., B_n$ and use as the estimate $$ \\hat{p}= \\frac{1}{n}\\sum_{i=1}^{n}B_i $$ \n",
    "This is to show you (convince you) how accurate the Monte Carlo method can be, and how the Strong Law of Large Numbers (SLLN) works in practice."
   ]
  },
  {
   "cell_type": "code",
   "execution_count": 36,
   "metadata": {},
   "outputs": [
    {
     "name": "stdout",
     "output_type": "stream",
     "text": [
      "Feel free to run the function several times:\n",
      "0.55\n",
      "0.507\n",
      "0.4935\n",
      "0.81\n",
      "0.754\n",
      "0.7425\n"
     ]
    }
   ],
   "source": [
    "import random\n",
    "\n",
    "def Bernoulli(p,n):\n",
    "    counter = 0\n",
    "    for i in range (n):\n",
    "        if random.random()<p:\n",
    "            counter+=1\n",
    "    return counter/n\n",
    "\n",
    "print(\"Feel free to run the function several times:\")\n",
    "print(Bernoulli(0.5,100))\n",
    "print(Bernoulli(0.5,1000))\n",
    "print(Bernoulli(0.5,10000))\n",
    "print(Bernoulli(0.75,100))\n",
    "print(Bernoulli(0.75,1000))\n",
    "print(Bernoulli(0.75,10000))"
   ]
  },
  {
   "cell_type": "markdown",
   "metadata": {},
   "source": [
    "__Problem 2:__ Recall the formula for computing the price $C_0$ of an option (derivative of the BLM stock prices) That yields a payoff at time $T$, denote by $C_T$:\n",
    "$$ C_0 = \\frac{1}{(1+r)^T}E^*(C_T), $$  \n",
    "\n",
    "where $*$ refers to the fact that we must use the value $p^*$ instead of the original (real) $P$ for the up/down probability of the BLM. (The real value of $P$ is not needed for priciing.) Also recall that for $C_T = (S_T - K)^+$, the European call option, the expected value, $E^*(S_T-K)^+$ can be computed explicitly yielding the famous Black-Scholes-Merton option pricing formula:  \n",
    "$$ C_0 = \\frac{1}{(1+r)^T}\\sum_{k=0}^{T} \\left( \\begin{array}{c}\n",
    "T \\\\ k  \\end{array} \\right )(p^*)^k(1-p^*)^{T-k}(u^k d^{T-k}S_0-K)^+ . $$  \n",
    "\n",
    "You are to use this formula to exactly obtain the price on the one hand, and then use Monte Carlo simulation on the other hand to compare and thus see how accurate the Monte Carlo method can be. \n",
    "\n",
    "Here are the parameters to use: $T = 10, r = 0.05, u = 1.15, d= 1.01, p*, S_0 = 50, K = 70$. Recall that \n",
    "$$ p^* = \\frac{1+r-d}{u-d} . $$  \n",
    "\n",
    "For the Monte Carlo, use $n=100, n=1000, n=10,000$ _iid_ copies of $C_T$ (for averaging) to see how it gets more accurate as $n$ increases."
   ]
  },
  {
   "cell_type": "code",
   "execution_count": 77,
   "metadata": {},
   "outputs": [
    {
     "name": "stdout",
     "output_type": "stream",
     "text": [
      "7.943105102106478\n",
      "7.879471728154839\n"
     ]
    }
   ],
   "source": [
    "#don't have to do factorials with .comb\n",
    "import math\n",
    "\n",
    "def combination(T,k):\n",
    "    return math.factorial(T)/(math.factorial(T-k)*math.factorial(k))\n",
    "\n",
    "def Cnott(T,r,u,d,S,K):\n",
    "    p_star = p(r,u,d)\n",
    "    C0 = 0\n",
    "    for k in range(T):\n",
    "        C0 += combination(T,k) * (p_star**k) * (1-p_star)**(T-k)* max((u**k)*(d**(T-k)) * (S) - (K), 0) #Max for plus exponent\n",
    "    return C0 / (1 + r)**T \n",
    "  \n",
    "\n",
    "#\"def Y\" given to us in document:\n",
    "  \n",
    "def Y(p,u,d):\n",
    "#1 evaluates to true and 0 to false\n",
    "    if Bernoulli(p,1):\n",
    "        return u\n",
    "    else:\n",
    "        return d\n",
    "\n",
    "# \"def BLM\" iven to us in document:\n",
    "def BLM(S0,n,p,u,d):\n",
    "#Initialize an empty array\n",
    "    BLMpath = [0 for k in range(n+1)]\n",
    "#Set the first entry to our initial stock value S_0=S0\n",
    "    BLMpath[0] = S0\n",
    "#Generate all $n$ of our iid Y samples Y_1,Y_2,...Y_n at once\n",
    "    Ysamples = [Y(p,u,d) for k in range(n)]\n",
    "    S = S0\n",
    "    for k in range(1,n+1):\n",
    "        S *= Ysamples[k-1]\n",
    "        BLMpath[k] = S\n",
    "    return BLMpath\n",
    "\n",
    "def p(r,u,d):\n",
    "    p_star = (1+r-d)/(u-d)\n",
    "    return p_star\n",
    "\n",
    "\n",
    "def monteC0(T,r,u,d,S,K,n):\n",
    "    Cnottnew = 0\n",
    "    p_star = p(r,u,d)\n",
    "    for k in range(n):\n",
    "        S_T = BLM(S, T, p_star, u, d)[-1]\n",
    "        Cnottnew += max(S_T - K, 0)\n",
    "    return (1 / ((1+r)**T)) * (1/n) * Cnottnew\n",
    "\n",
    "\n",
    "print(Cnott(10,0.05,1.15,1.01,50,70))\n",
    "    \n",
    "#print(monteC0(10,0.05,1.15,1.01,50,70,10))\n",
    "#print(monteC0(10,0.05,1.15,1.01,50,70,100))\n",
    "#print(monteC0(10,0.05,1.15,1.01,50,70,1000))\n",
    "print(monteC0(10,0.05,1.15,1.01,50,70,10000))\n",
    "\n"
   ]
  },
  {
   "cell_type": "markdown",
   "metadata": {},
   "source": [
    "__Problem 3__: With the same parameters as in Problem 2, price the _Asian call option:_ The payoff $C_T$ at atime $T$ is based on the average value of the stock over the $T$ time units:\n",
    "$$ C_T = \\left( \\frac{1}{T} (\\sum_{i=1}^{T} S_i)-K \\right)^+ $$  \n",
    "\n",
    "Use $n=100, n=1000, n=10,000$ _iid_ copies of $C_T$ (for averaging)."
   ]
  },
  {
   "cell_type": "code",
   "execution_count": 109,
   "metadata": {},
   "outputs": [
    {
     "name": "stdout",
     "output_type": "stream",
     "text": [
      "2.1743123003596625\n",
      "2.4248674282232487\n",
      "2.3139334939634484\n"
     ]
    }
   ],
   "source": [
    "\n",
    "def asianmonteC0(T,r,u,d,S,K,n):\n",
    "    Cnottnew = 0\n",
    "    p_star = p(r,u,d)\n",
    "    for k in range(n):\n",
    "        val = max(sum(BLM(S, T, p_star, u, d))/T - K,0)\n",
    "        Cnottnew += val\n",
    "    return (1 / ((1+r)**T)) * (1/n) * Cnottnew\n",
    "\n",
    "\n",
    "print(asianmonteC0(10,0.05,1.15,1.01,50,70,100))\n",
    "print(asianmonteC0(10,0.05,1.15,1.01,50,70,1000))\n",
    "print(asianmonteC0(10,0.05,1.15,1.01,50,70,10000))"
   ]
  },
  {
   "cell_type": "markdown",
   "metadata": {},
   "source": [
    "__Problem 4__: With the same parameters as in Problem 2, but the additional parameters $n_1 = 4, n_2 =6,$ and $b=66$: price a _down and out barrier option_, that has payoff at time $T$ of  \n",
    "\n",
    "$$ C_T = (S_T -K)^+ I \\{ S_{n_1} \\geq b, S_{n_2} \\geq b \\}.$$ \n",
    "\n",
    "Use $n=100, n=1000, n=10,000$ _iid_ copies of $C_T$ (for averaging).\n",
    "\n",
    "In the above, recall that for any event $A$, $I\\{A\\}$ denotes the _indicator_ random variable defined by  \n",
    "$$ I\\{A\\} = \\left\\{ \\begin{array}{ll} 1 & \\mbox{if $A$ occurs,} \\\\ 0 & \\mbox{if $A$ does not occur.} \\end{array} \\right. $$\n",
    "\n",
    "  \n",
    "Here, $A = \\{S_{n_1} \\geq b, S_{n_2} \\geq b\\}$.\n"
   ]
  },
  {
   "cell_type": "code",
   "execution_count": 107,
   "metadata": {},
   "outputs": [
    {
     "name": "stdout",
     "output_type": "stream",
     "text": [
      "4.505344377363382\n",
      "4.643074936378376\n",
      "4.672880477223146\n"
     ]
    }
   ],
   "source": [
    "def downout(T,r,u,d,S,K,n,n1,n2,b):\n",
    "    Cnottnew = 0\n",
    "    p_star = p(r,u,d)\n",
    "    for k in range(n):\n",
    "        S_s = BLM(S, T, p_star, u, d)\n",
    "        S_T = S_s[-1]\n",
    "        S_n1 = S_s[n1]\n",
    "        S_n2 = S_s[n2-]\n",
    "        I = 1 if S_n1 >= b and S_n2 >= b else 0\n",
    "        Cnottnew += max(S_T - K, 0) * I\n",
    "    return (1 / ((1+r)**T)) * (1/n) * Cnottnew\n",
    "\n",
    "\n",
    "print(downout(10,0.05,1.15,1.01,50,70,100,4,6,66))\n",
    "print(downout(10,0.05,1.15,1.01,50,70,1000,4,6,66))\n",
    "print(downout(10,0.05,1.15,1.01,50,70,10000,4,6,66))"
   ]
  },
  {
   "cell_type": "code",
   "execution_count": 102,
   "metadata": {},
   "outputs": [
    {
     "name": "stdout",
     "output_type": "stream",
     "text": [
      "when he knows how to code <3\n"
     ]
    }
   ],
   "source": [
    "print(\"when he knows how to code <3\")"
   ]
  },
  {
   "cell_type": "code",
   "execution_count": null,
   "metadata": {},
   "outputs": [],
   "source": []
  }
 ],
 "metadata": {
  "kernelspec": {
   "display_name": "Python 3",
   "language": "python",
   "name": "python3"
  },
  "language_info": {
   "codemirror_mode": {
    "name": "ipython",
    "version": 3
   },
   "file_extension": ".py",
   "mimetype": "text/x-python",
   "name": "python",
   "nbconvert_exporter": "python",
   "pygments_lexer": "ipython3",
   "version": "3.8.8"
  }
 },
 "nbformat": 4,
 "nbformat_minor": 1
}
